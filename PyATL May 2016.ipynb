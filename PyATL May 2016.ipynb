{
 "cells": [
  {
   "cell_type": "markdown",
   "metadata": {
    "nbpresent": {
     "id": "0c936e82-bdee-4749-b492-9df34cefbf2b"
    },
    "slideshow": {
     "slide_type": "slide"
    }
   },
   "source": [
    "# Python and MongoDB\n",
    "\n",
    "\n",
    "<img src=\"https://upload.wikimedia.org/wikipedia/commons/thumb/c/c3/Python-logo-notext.svg/1024px-Python-logo-notext.svg.png\" alt=\"Python Logo\" width=\"100px\">\n",
    "<img src=\"http://s3.amazonaws.com/info-mongodb-com/_com_assets/media/mongodb-logo-rgb.jpeg\" alt=\"MongoDB Logo\" width=\"200px\">\n",
    "\n",
    "## Python Atlanta May 2016\n",
    "\n",
    "Rick Copeland"
   ]
  },
  {
   "cell_type": "markdown",
   "metadata": {
    "nbpresent": {
     "id": "5668d3d6-3efd-489c-8e3d-acf5a0c57811"
    },
    "slideshow": {
     "slide_type": "slide"
    }
   },
   "source": [
    "# MongoDB\n",
    "\n",
    "- What is MongoDB?\n",
    "- Why use MongoDB?\n",
    "- How does it integrate with Python?"
   ]
  },
  {
   "cell_type": "markdown",
   "metadata": {
    "slideshow": {
     "slide_type": "slide"
    }
   },
   "source": [
    "# What is MongoDB\n",
    "\n",
    "> MongoDB is an open-source, document database designed for ease of development and scaling.\n",
    "> - https://docs.mongodb.com/manual/"
   ]
  },
  {
   "cell_type": "markdown",
   "metadata": {
    "slideshow": {
     "slide_type": "slide"
    }
   },
   "source": [
    "## Open-Source\n",
    "\n",
    "Yay!"
   ]
  },
  {
   "cell_type": "markdown",
   "metadata": {
    "slideshow": {
     "slide_type": "slide"
    }
   },
   "source": [
    "## Open-source, document database\n",
    "\n",
    "Documents don't mean Word. Documents, in this case, mean JSON."
   ]
  },
  {
   "cell_type": "markdown",
   "metadata": {
    "slideshow": {
     "slide_type": "slide"
    }
   },
   "source": [
    "## Open-source, document database designed for ease of development\n",
    "\n",
    " - Do you like the Python `dict` type? \n",
    " - Would you like to be able to store them in a database easily? \n",
    " \n",
    "If the answers to those two questions are \"yes,\" you might enjoy using MongoDB!\n"
   ]
  },
  {
   "cell_type": "markdown",
   "metadata": {
    "slideshow": {
     "slide_type": "slide"
    }
   },
   "source": [
    "## Open-source, document database designed for ease of development and scaling\n",
    "\n",
    "Obligatory... \n",
    "\n",
    "> MongoDB is web-scale."
   ]
  },
  {
   "cell_type": "markdown",
   "metadata": {
    "slideshow": {
     "slide_type": "fragment"
    }
   },
   "source": [
    "![MongoDB is Web Scale](https://i.ytimg.com/vi/HdnDXsqiPYo/hqdefault.jpg)\n",
    "https://www.youtube.com/watch?v=b2F-DItXtZs"
   ]
  },
  {
   "cell_type": "markdown",
   "metadata": {
    "slideshow": {
     "slide_type": "slide"
    }
   },
   "source": [
    "# Why use MongoDB?\n",
    "\n",
    "- Need a simple persistence layer\n",
    "- Changing your schema a lot\n",
    "- Deal with lots of polymorphic data\n",
    "- Generally know the apps that will access the DB\n",
    "- You need performance you're having trouble getting with a relational database"
   ]
  },
  {
   "cell_type": "markdown",
   "metadata": {
    "slideshow": {
     "slide_type": "slide"
    }
   },
   "source": [
    "# How does it integrate with Python?\n",
    "\n",
    "`pip install pymongo`"
   ]
  },
  {
   "cell_type": "markdown",
   "metadata": {
    "slideshow": {
     "slide_type": "fragment"
    }
   },
   "source": [
    "## Yeah, but what did you *really* do?\n",
    "\n",
    "- Install docker-machine (https://docs.docker.com/machine/install-machine/)\n",
    "- Install (and run) docker-pf (https://github.com/noseglid/docker-pf)\n",
    "- `docker pull mongodb`\n",
    "- `docker run mongodb --port 27017`\n",
    "- `pip install pymongo`\n"
   ]
  },
  {
   "cell_type": "markdown",
   "metadata": {
    "slideshow": {
     "slide_type": "slide"
    }
   },
   "source": [
    "# So let's get started"
   ]
  },
  {
   "cell_type": "markdown",
   "metadata": {
    "slideshow": {
     "slide_type": "fragment"
    }
   },
   "source": [
    "## First, a bit of terminology...\n",
    "\n",
    "MongoDB is organized into *Databases*, *Collections*, and *Documents*, and can use *Indexes*.\n",
    "\n",
    "| SQL      | MongoDB    |\n",
    "|----------|------------|\n",
    "| Database | Database   |\n",
    "| Table    | Collection |\n",
    "| Column   | Field      |\n",
    "| Row      | Document   |\n",
    "| Index    | Index      |"
   ]
  },
  {
   "cell_type": "markdown",
   "metadata": {
    "slideshow": {
     "slide_type": "slide"
    }
   },
   "source": [
    "# Getting a connection to the server\n",
    "\n",
    "We get a connection using the `pymongo.MongoClient()` object."
   ]
  },
  {
   "cell_type": "code",
   "execution_count": 1,
   "metadata": {
    "collapsed": true,
    "slideshow": {
     "slide_type": "fragment"
    }
   },
   "outputs": [],
   "source": [
    "import pymongo\n",
    "cli = pymongo.MongoClient()    # connect to localhost by default\n",
    "cli.drop_database('pyatl')"
   ]
  },
  {
   "cell_type": "markdown",
   "metadata": {
    "slideshow": {
     "slide_type": "slide"
    }
   },
   "source": [
    "# Accessing Databases and Collections\n",
    "\n",
    "MongoDB, like Python, makes it easy to inspect data you're unfamiliar with."
   ]
  },
  {
   "cell_type": "code",
   "execution_count": 2,
   "metadata": {
    "collapsed": false,
    "slideshow": {
     "slide_type": "fragment"
    }
   },
   "outputs": [
    {
     "data": {
      "text/plain": [
       "[u'SilverServer',\n",
       " u'blog',\n",
       " u'enron',\n",
       " u'local',\n",
       " u'm101',\n",
       " u'school',\n",
       " u'students',\n",
       " u'test']"
      ]
     },
     "execution_count": 2,
     "metadata": {},
     "output_type": "execute_result"
    }
   ],
   "source": [
    "cli.database_names()"
   ]
  },
  {
   "cell_type": "code",
   "execution_count": 3,
   "metadata": {
    "collapsed": false,
    "slideshow": {
     "slide_type": "fragment"
    }
   },
   "outputs": [
    {
     "data": {
      "text/plain": [
       "[u'messages']"
      ]
     },
     "execution_count": 3,
     "metadata": {},
     "output_type": "execute_result"
    }
   ],
   "source": [
    "db = cli.enron\n",
    "db.collection_names()"
   ]
  },
  {
   "cell_type": "code",
   "execution_count": 4,
   "metadata": {
    "collapsed": false,
    "slideshow": {
     "slide_type": "fragment"
    }
   },
   "outputs": [
    {
     "data": {
      "text/plain": [
       "Collection(Database(MongoClient(host=['localhost:27017'], document_class=dict, tz_aware=False, connect=True), u'enron'), u'messages')"
      ]
     },
     "execution_count": 4,
     "metadata": {},
     "output_type": "execute_result"
    }
   ],
   "source": [
    "db.messages"
   ]
  },
  {
   "cell_type": "markdown",
   "metadata": {
    "slideshow": {
     "slide_type": "slide"
    }
   },
   "source": [
    "# Inserting data\n",
    "\n",
    "1. Choose your database\n",
    "2. Choose your collection\n",
    "3. Call the `insert_one()` method with a `dict`"
   ]
  },
  {
   "cell_type": "code",
   "execution_count": 5,
   "metadata": {
    "collapsed": false,
    "slideshow": {
     "slide_type": "fragment"
    }
   },
   "outputs": [
    {
     "data": {
      "text/plain": [
       "<pymongo.results.InsertOneResult at 0x10997c320>"
      ]
     },
     "execution_count": 5,
     "metadata": {},
     "output_type": "execute_result"
    }
   ],
   "source": [
    "from datetime import datetime\n",
    "\n",
    "db = cli.pyatl\n",
    "db.meetings.insert_one({\n",
    "        'date': datetime.utcnow(),\n",
    "        'talks': [\n",
    "            { \n",
    "                'title': 'Using Anaconda to Get Started with Data Science and Python',\n",
    "                'speaker': 'Tony Fast',\n",
    "                'python-version': None},\n",
    "            {\n",
    "                'title': 'Python and MongoDB',\n",
    "                'speaker': 'Rick Copeland',\n",
    "                'python-version': '2.7'}\n",
    "            ]})"
   ]
  },
  {
   "cell_type": "markdown",
   "metadata": {
    "slideshow": {
     "slide_type": "slide"
    }
   },
   "source": [
    "# Finding data\n",
    "\n",
    "On the collection object again, call `find()` or `find_one()`:"
   ]
  },
  {
   "cell_type": "code",
   "execution_count": 6,
   "metadata": {
    "collapsed": false,
    "slideshow": {
     "slide_type": "fragment"
    }
   },
   "outputs": [
    {
     "data": {
      "text/plain": [
       "<pymongo.cursor.Cursor at 0x10998c150>"
      ]
     },
     "execution_count": 6,
     "metadata": {},
     "output_type": "execute_result"
    }
   ],
   "source": [
    "db.meetings.find()"
   ]
  },
  {
   "cell_type": "code",
   "execution_count": 7,
   "metadata": {
    "collapsed": false,
    "slideshow": {
     "slide_type": "fragment"
    }
   },
   "outputs": [
    {
     "name": "stdout",
     "output_type": "stream",
     "text": [
      "{u'date': datetime.datetime(2016, 5, 12, 20, 44, 27, 73000), u'talks': [{u'python-version': None, u'speaker': u'Tony Fast', u'title': u'Using Anaconda to Get Started with Data Science and Python'}, {u'python-version': u'2.7', u'speaker': u'Rick Copeland', u'title': u'Python and MongoDB'}], u'_id': ObjectId('5734eb2bb26b933dcb67e147')}\n"
     ]
    }
   ],
   "source": [
    "for meeting in db.meetings.find():\n",
    "    print meeting"
   ]
  },
  {
   "cell_type": "code",
   "execution_count": 8,
   "metadata": {
    "collapsed": false,
    "slideshow": {
     "slide_type": "fragment"
    }
   },
   "outputs": [
    {
     "data": {
      "text/plain": [
       "{u'_id': ObjectId('5734eb2bb26b933dcb67e147'),\n",
       " u'date': datetime.datetime(2016, 5, 12, 20, 44, 27, 73000),\n",
       " u'talks': [{u'python-version': None,\n",
       "   u'speaker': u'Tony Fast',\n",
       "   u'title': u'Using Anaconda to Get Started with Data Science and Python'},\n",
       "  {u'python-version': u'2.7',\n",
       "   u'speaker': u'Rick Copeland',\n",
       "   u'title': u'Python and MongoDB'}]}"
      ]
     },
     "execution_count": 8,
     "metadata": {},
     "output_type": "execute_result"
    }
   ],
   "source": [
    "db.meetings.find_one()"
   ]
  },
  {
   "cell_type": "markdown",
   "metadata": {
    "slideshow": {
     "slide_type": "slide"
    }
   },
   "source": [
    "# Finding data (queries)\n",
    "\n",
    "You can find documents in MongoDB by querying by example:"
   ]
  },
  {
   "cell_type": "code",
   "execution_count": 9,
   "metadata": {
    "collapsed": false,
    "scrolled": true,
    "slideshow": {
     "slide_type": "fragment"
    }
   },
   "outputs": [
    {
     "data": {
      "text/plain": [
       "{u'_id': ObjectId('5734eb2bb26b933dcb67e147'),\n",
       " u'date': datetime.datetime(2016, 5, 12, 20, 44, 27, 73000),\n",
       " u'talks': [{u'python-version': None,\n",
       "   u'speaker': u'Tony Fast',\n",
       "   u'title': u'Using Anaconda to Get Started with Data Science and Python'},\n",
       "  {u'python-version': u'2.7',\n",
       "   u'speaker': u'Rick Copeland',\n",
       "   u'title': u'Python and MongoDB'}]}"
      ]
     },
     "execution_count": 9,
     "metadata": {},
     "output_type": "execute_result"
    }
   ],
   "source": [
    "meeting = db.meetings.find_one()\n",
    "db.meetings.find_one({'_id': meeting['_id']})"
   ]
  },
  {
   "cell_type": "markdown",
   "metadata": {
    "slideshow": {
     "slide_type": "slide"
    }
   },
   "source": [
    "# Finding data (queries)\n",
    "\n",
    "You can find documents in MongoDB by querying using the query language:"
   ]
  },
  {
   "cell_type": "code",
   "execution_count": 10,
   "metadata": {
    "collapsed": false,
    "slideshow": {
     "slide_type": "fragment"
    }
   },
   "outputs": [],
   "source": [
    "from datetime import date, time\n",
    "today_min = datetime.combine(date.today(), time.min)\n",
    "today_max = datetime.combine(date.today(), time.max)"
   ]
  },
  {
   "cell_type": "code",
   "execution_count": 11,
   "metadata": {
    "collapsed": false,
    "slideshow": {
     "slide_type": "fragment"
    }
   },
   "outputs": [
    {
     "name": "stdout",
     "output_type": "stream",
     "text": [
      "[u'Using Anaconda to Get Started with Data Science and Python', u'Python and MongoDB']\n"
     ]
    }
   ],
   "source": [
    "for meeting in db.meetings.find({'date': {'$gte': today_min, '$lte': today_max}}):\n",
    "    talks = meeting['talks']\n",
    "    print [talk['title'] for talk in talks]"
   ]
  },
  {
   "cell_type": "markdown",
   "metadata": {
    "slideshow": {
     "slide_type": "slide"
    }
   },
   "source": [
    "# Updating data (replace)\n",
    "\n",
    "You can update data by overwriting a document using `replace_one()`:"
   ]
  },
  {
   "cell_type": "code",
   "execution_count": 12,
   "metadata": {
    "collapsed": false,
    "slideshow": {
     "slide_type": "fragment"
    }
   },
   "outputs": [],
   "source": [
    "db.names.insert_one({'name': 'Rick'})\n",
    "name_doc = db.names.find_one()"
   ]
  },
  {
   "cell_type": "code",
   "execution_count": 13,
   "metadata": {
    "collapsed": false,
    "slideshow": {
     "slide_type": "fragment"
    }
   },
   "outputs": [
    {
     "data": {
      "text/plain": [
       "{u'_id': ObjectId('5734eb2bb26b933dcb67e148'), u'name': u'Richard'}"
      ]
     },
     "execution_count": 13,
     "metadata": {},
     "output_type": "execute_result"
    }
   ],
   "source": [
    "name_doc['name'] = 'Richard'\n",
    "db.names.replace_one({'_id': name_doc['_id']}, name_doc)\n",
    "db.names.find_one()"
   ]
  },
  {
   "cell_type": "markdown",
   "metadata": {
    "slideshow": {
     "slide_type": "slide"
    }
   },
   "source": [
    "# Updating data (modify)"
   ]
  },
  {
   "cell_type": "code",
   "execution_count": 14,
   "metadata": {
    "collapsed": false,
    "slideshow": {
     "slide_type": "fragment"
    }
   },
   "outputs": [
    {
     "data": {
      "text/plain": [
       "{u'python-version': u'2.7',\n",
       " u'speaker': u'Richard Copeland',\n",
       " u'title': u'Python and MongoDB'}"
      ]
     },
     "execution_count": 14,
     "metadata": {},
     "output_type": "execute_result"
    }
   ],
   "source": [
    "meeting = db.meetings.find_one()\n",
    "db.meetings.update_one(\n",
    "    {'_id': meeting['_id']},\n",
    "    {\n",
    "        '$set': {'talks.1.speaker': 'Richard Copeland'}\n",
    "    })\n",
    "db.meetings.find_one()['talks'][1]\n"
   ]
  },
  {
   "cell_type": "code",
   "execution_count": 15,
   "metadata": {
    "collapsed": false,
    "slideshow": {
     "slide_type": "slide"
    }
   },
   "outputs": [
    {
     "data": {
      "text/plain": [
       "[{u'python-version': None,\n",
       "  u'speaker': u'Tony Fast',\n",
       "  u'title': u'Using Anaconda to Get Started with Data Science and Python'},\n",
       " {u'python-version': u'2.7',\n",
       "  u'speaker': u'Richard Copeland',\n",
       "  u'title': u'Python and MongoDB'},\n",
       " {u'python-version': [u'2.7', u'3.5'],\n",
       "  u'speaker': u'Dan Rocco',\n",
       "  u'title': u'Something even more awesome'}]"
      ]
     },
     "execution_count": 15,
     "metadata": {},
     "output_type": "execute_result"
    }
   ],
   "source": [
    "db.meetings.update_one(\n",
    "    {'_id': meeting['_id']},\n",
    "    {\n",
    "        '$push': {'talks': {\n",
    "                'speaker': 'Dan Rocco',\n",
    "                'title': 'Something even more awesome',\n",
    "                'python-version': ['2.7', '3.5']\n",
    "            }}\n",
    "    }\n",
    ")\n",
    "db.meetings.find_one()['talks']\n"
   ]
  },
  {
   "cell_type": "markdown",
   "metadata": {
    "slideshow": {
     "slide_type": "slide"
    }
   },
   "source": [
    "# Indexes\n",
    "\n",
    "Use them."
   ]
  },
  {
   "cell_type": "markdown",
   "metadata": {
    "slideshow": {
     "slide_type": "fragment"
    }
   },
   "source": [
    "Seriously, though. Typical process:\n",
    "\n",
    "1. Develop with tiny data set, observe that MongoDB is lightning-fast\n",
    "2. Deploy to production with no users (yet), see that MongoDB is still lightning-fast\n",
    "3. Users sign up\n",
    "4. System quickly grinds to a standstill \n",
    "5. **MongoDB doesn't scale!!!! Don't use MongoDB!!!!**"
   ]
  },
  {
   "cell_type": "markdown",
   "metadata": {
    "slideshow": {
     "slide_type": "fragment"
    }
   },
   "source": [
    "Each cursor object has an `.explain()` method. Read up on its output, and use it. Things you don't want to see:\n",
    "\n",
    "- Collection scan\n",
    "- ScanAndOrder\n"
   ]
  },
  {
   "cell_type": "markdown",
   "metadata": {
    "slideshow": {
     "slide_type": "slide"
    }
   },
   "source": [
    "# Aggregation\n",
    "\n",
    "MongoDB includes a framework for applying transformations to documents in a pipeline."
   ]
  },
  {
   "cell_type": "code",
   "execution_count": 16,
   "metadata": {
    "collapsed": false,
    "slideshow": {
     "slide_type": "fragment"
    }
   },
   "outputs": [
    {
     "name": "stdout",
     "output_type": "stream",
     "text": [
      "{u'count': 171, u'_id': u'matthew.lenhart@enron.com'}\n",
      "{u'count': 65, u'_id': u'veronica.espinoza@enron.com'}\n",
      "{u'count': 64, u'_id': u'veronica.gonzalez@enron.com'}\n",
      "{u'count': 46, u'_id': u'phillip.love@enron.com'}\n",
      "{u'count': 24, u'_id': u'eric.bass@enron.com'}\n"
     ]
    }
   ],
   "source": [
    "db = cli.enron\n",
    "curs = db.messages.aggregate(\n",
    "    [\n",
    "        {'$match': {'headers.To': 'bryan.hull@enron.com'}},\n",
    "        {'$group': {\n",
    "                '_id': '$headers.From',\n",
    "                'count': {'$sum': 1}\n",
    "            }},\n",
    "        {'$sort': {'count': -1}},\n",
    "        {'$limit': 5}\n",
    "        ])\n",
    "for result in curs:\n",
    "    print result"
   ]
  },
  {
   "cell_type": "markdown",
   "metadata": {
    "slideshow": {
     "slide_type": "slide"
    }
   },
   "source": [
    "# *Lots* and lots more...\n",
    "\n",
    "- Indexing\n",
    "- GeoSpatial queries\n",
    "- Full-text queries\n",
    "- Replication\n",
    "- Sharding (partitioning)\n",
    "- Schema design\n"
   ]
  },
  {
   "cell_type": "markdown",
   "metadata": {
    "slideshow": {
     "slide_type": "fragment"
    }
   },
   "source": [
    "... but really 99% of your problems can be solved by fixing your schema and adding the right index."
   ]
  },
  {
   "cell_type": "markdown",
   "metadata": {
    "slideshow": {
     "slide_type": "slide"
    }
   },
   "source": [
    "# Thank you\n",
    "\n",
    "Any questions?"
   ]
  }
 ],
 "metadata": {
  "celltoolbar": "Slideshow",
  "kernelspec": {
   "display_name": "Python 2",
   "language": "python",
   "name": "python2"
  },
  "language_info": {
   "codemirror_mode": {
    "name": "ipython",
    "version": 2
   },
   "file_extension": ".py",
   "mimetype": "text/x-python",
   "name": "python",
   "nbconvert_exporter": "python",
   "pygments_lexer": "ipython2",
   "version": "2.7.11"
  },
  "nbpresent": {
   "slides": {},
   "themes": {
    "default": "3ee696ce-b4d2-4518-8efc-8e109c4a85bd",
    "theme": {
     "3ee696ce-b4d2-4518-8efc-8e109c4a85bd": {
      "id": "3ee696ce-b4d2-4518-8efc-8e109c4a85bd",
      "palette": {
       "19cc588f-0593-49c9-9f4b-e4d7cc113b1c": {
        "id": "19cc588f-0593-49c9-9f4b-e4d7cc113b1c",
        "rgb": [
         252,
         252,
         252
        ]
       },
       "31af15d2-7e15-44c5-ab5e-e04b16a89eff": {
        "id": "31af15d2-7e15-44c5-ab5e-e04b16a89eff",
        "rgb": [
         68,
         68,
         68
        ]
       },
       "50f92c45-a630-455b-aec3-788680ec7410": {
        "id": "50f92c45-a630-455b-aec3-788680ec7410",
        "rgb": [
         155,
         177,
         192
        ]
       },
       "c5cc3653-2ee1-402a-aba2-7caae1da4f6c": {
        "id": "c5cc3653-2ee1-402a-aba2-7caae1da4f6c",
        "rgb": [
         43,
         126,
         184
        ]
       },
       "efa7f048-9acb-414c-8b04-a26811511a21": {
        "id": "efa7f048-9acb-414c-8b04-a26811511a21",
        "rgb": [
         25.118061674008803,
         73.60176211453744,
         107.4819383259912
        ]
       }
      },
      "rules": {
       "blockquote": {
        "color": "50f92c45-a630-455b-aec3-788680ec7410"
       },
       "code": {
        "font-family": "Anonymous Pro"
       },
       "h1": {
        "color": "c5cc3653-2ee1-402a-aba2-7caae1da4f6c",
        "font-family": "Lato",
        "font-size": 8
       },
       "h2": {
        "color": "c5cc3653-2ee1-402a-aba2-7caae1da4f6c",
        "font-family": "Lato",
        "font-size": 6
       },
       "h3": {
        "color": "50f92c45-a630-455b-aec3-788680ec7410",
        "font-family": "Lato",
        "font-size": 5.5
       },
       "h4": {
        "color": "c5cc3653-2ee1-402a-aba2-7caae1da4f6c",
        "font-family": "Lato",
        "font-size": 5
       },
       "h5": {
        "font-family": "Lato"
       },
       "h6": {
        "font-family": "Lato"
       },
       "h7": {
        "font-family": "Lato"
       },
       "pre": {
        "font-family": "Anonymous Pro",
        "font-size": 4
       }
      },
      "text-base": {
       "font-family": "Merriweather",
       "font-size": 4
      }
     }
    }
   }
  }
 },
 "nbformat": 4,
 "nbformat_minor": 0
}
